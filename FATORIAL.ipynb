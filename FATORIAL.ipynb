{
  "nbformat": 4,
  "nbformat_minor": 0,
  "metadata": {
    "colab": {
      "provenance": [],
      "authorship_tag": "ABX9TyO/tz8c6ZZ4Se6H0jE+C/bM",
      "include_colab_link": true
    },
    "kernelspec": {
      "name": "python3",
      "display_name": "Python 3"
    },
    "language_info": {
      "name": "python"
    }
  },
  "cells": [
    {
      "cell_type": "markdown",
      "metadata": {
        "id": "view-in-github",
        "colab_type": "text"
      },
      "source": [
        "<a href=\"https://colab.research.google.com/github/igarashimassaki/Alg_e_LP_2025.2/blob/main/FATORIAL.ipynb\" target=\"_parent\"><img src=\"https://colab.research.google.com/assets/colab-badge.svg\" alt=\"Open In Colab\"/></a>"
      ]
    },
    {
      "cell_type": "code",
      "execution_count": null,
      "metadata": {
        "colab": {
          "base_uri": "https://localhost:8080/"
        },
        "id": "nGjKENNpggt_",
        "outputId": "dfe8049d-e049-45b3-9f3c-1f85aba5cfeb"
      },
      "outputs": [
        {
          "output_type": "stream",
          "name": "stdout",
          "text": [
            "Programa CALC_FAT_V1\n",
            "Qual fatorial: 150\n",
            "O fatorial de 150 é 57133839564458545904789328652610540031895535786011264182548375833179829124845398393126574488675311145377107878746854204162666250198684504466355949195922066574942592095735778929325357290444962472405416790722118445437122269675520000000000000000000000000000000000000\n"
          ]
        }
      ],
      "source": [
        "print(\"Programa CALC_FAT_V1\")\n",
        "def FATORIAL(N):\n",
        "  fat = 1\n",
        "  for i in range(1, N + 1):\n",
        "    fat *= i\n",
        "  return fat\n",
        "LIMITE = int(input(\"Qual fatorial: \"))\n",
        "print(f'O fatorial de {LIMITE} é {FATORIAL(LIMITE)}')"
      ]
    }
  ]
}